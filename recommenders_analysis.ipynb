{
 "cells": [
  {
   "cell_type": "markdown",
   "metadata": {},
   "source": [
    "## Analysis of recommenders"
   ]
  },
  {
   "cell_type": "code",
   "execution_count": 1,
   "metadata": {},
   "outputs": [
    {
     "name": "stderr",
     "output_type": "stream",
     "text": [
      "C:\\Users\\Martim\\AppData\\Local\\Programs\\Python\\Python39\\lib\\site-packages\\setuptools\\distutils_patch.py:25: UserWarning: Distutils was imported before Setuptools. This usage is discouraged and may exhibit undesirable behaviors or errors. Please use Setuptools' objects directly or at least import Setuptools first.\n",
      "  warnings.warn(\n",
      "C:\\Users\\Martim\\AppData\\Local\\Programs\\Python\\Python39\\lib\\site-packages\\lightfm\\_lightfm_fast.py:9: UserWarning: LightFM was compiled without OpenMP support. Only a single thread will be used.\n",
      "  warnings.warn(\n"
     ]
    }
   ],
   "source": [
    "from Utils.import_recommenders import *"
   ]
  },
  {
   "cell_type": "code",
   "execution_count": 2,
   "metadata": {},
   "outputs": [],
   "source": [
    "import os\n",
    "from Utils.Dataset import Dataset\n",
    "\n",
    "dataset = Dataset(path='./Data', validation_percentage=0, test_percentage=0.2, seed=1234)\n",
    "stacked_URM, _ = dataset.stack_URM_ICM(dataset.URM_train, dataset.ICM)\n",
    "output_folder_path = os.path.join('Recommenders', 'saved_models', 'test'+os.sep)"
   ]
  },
  {
   "cell_type": "code",
   "execution_count": 3,
   "metadata": {},
   "outputs": [
    {
     "name": "stdout",
     "output_type": "stream",
     "text": [
      "ItemKNN_CFCBF_Hybrid: Loading model from file Recommenders\\saved_models\\test\\ItemKNN_CFCBF_Hybrid\n",
      "ItemKNN_CFCBF_Hybrid: Loading complete\n",
      "PureSVD: Loading model from file Recommenders\\saved_models\\test\\PureSVD\n",
      "PureSVD: Loading complete\n",
      "PureSVDItem: Loading model from file Recommenders\\saved_models\\test\\PureSVDItem\n",
      "PureSVDItem: Loading complete\n"
     ]
    }
   ],
   "source": [
    "EASE_R_test = EASE_R(stacked_URM)\n",
    "EASE_R_test.load_model(output_folder_path)\n",
    "\n",
    "ItemKNN_CFCBF_Hybrid_test = ItemKNN_CFCBF_Hybrid(stacked_URM, dataset.ICM)\n",
    "ItemKNN_CFCBF_Hybrid_test.load_model(output_folder_path)\n",
    "\n",
    "ItemKNNCF_test = ItemKNNCF(stacked_URM)\n",
    "ItemKNNCF_test.load_model(output_folder_path)\n",
    "\n",
    "PureSVD_test = PureSVD(stacked_URM)\n",
    "PureSVD_test.load_model(output_folder_path)\n",
    "\n",
    "PureSVDItem_test = PureSVDItem(stacked_URM)\n",
    "PureSVDItem_test.load_model(output_folder_path)\n",
    "\n",
    "SLIMElasticNet_test = MultiThreadSLIM_SLIMElasticNet(stacked_URM)\n",
    "SLIMElasticNet_test.load_model(output_folder_path)\n",
    "\n",
    "UserKNNCF_test = UserKNNCF(stacked_URM)\n",
    "UserKNNCF_test.load_model(output_folder_path)\n",
    "\n",
    "Hybrid_test = Hybrid(stacked_URM, dataset.ICM)\n",
    "Hybrid_test.fit()"
   ]
  },
  {
   "cell_type": "code",
   "execution_count": 4,
   "metadata": {},
   "outputs": [
    {
     "data": {
      "text/plain": [
       "(array([141, 499, 111, ..., 214, 150, 257], dtype=int32), (13650,))"
      ]
     },
     "execution_count": 4,
     "metadata": {},
     "output_type": "execute_result"
    }
   ],
   "source": [
    "import numpy as np \n",
    "import scipy.sparse as sps\n",
    "\n",
    "profile_length = np.ediff1d(sps.csr_matrix(dataset.URM_train).indptr)\n",
    "profile_length, profile_length.shape"
   ]
  },
  {
   "cell_type": "code",
   "execution_count": 5,
   "metadata": {},
   "outputs": [],
   "source": [
    "num_split = 10"
   ]
  },
  {
   "cell_type": "code",
   "execution_count": 6,
   "metadata": {},
   "outputs": [
    {
     "data": {
      "text/plain": [
       "1365"
      ]
     },
     "execution_count": 6,
     "metadata": {},
     "output_type": "execute_result"
    }
   ],
   "source": [
    "block_size = int(len(profile_length)*(1/num_split))\n",
    "block_size"
   ]
  },
  {
   "cell_type": "code",
   "execution_count": 7,
   "metadata": {},
   "outputs": [
    {
     "data": {
      "text/plain": [
       "array([ 1648, 10647, 11672, ...,  1141,  8526,   317], dtype=int64)"
      ]
     },
     "execution_count": 7,
     "metadata": {},
     "output_type": "execute_result"
    }
   ],
   "source": [
    "sorted_users = np.argsort(profile_length)\n",
    "sorted_users"
   ]
  },
  {
   "cell_type": "code",
   "execution_count": 8,
   "metadata": {},
   "outputs": [
    {
     "name": "stdout",
     "output_type": "stream",
     "text": [
      "Group 0, #users in group 1365, average p.len 53.08, median 54.0, min 5, max 90\n",
      "Group 1, #users in group 1365, average p.len 118.51, median 119.0, min 91, max 144\n",
      "Group 2, #users in group 1365, average p.len 165.09, median 165.0, min 144, max 186\n",
      "Group 3, #users in group 1365, average p.len 206.68, median 206.0, min 186, max 228\n",
      "Group 4, #users in group 1365, average p.len 250.46, median 251.0, min 228, max 272\n",
      "Group 5, #users in group 1365, average p.len 295.00, median 295.0, min 272, max 319\n",
      "Group 6, #users in group 1365, average p.len 344.91, median 344.0, min 319, max 373\n",
      "Group 7, #users in group 1365, average p.len 410.14, median 409.0, min 373, max 452\n",
      "Group 8, #users in group 1365, average p.len 507.54, median 503.0, min 452, max 577\n",
      "Group 9, #users in group 1365, average p.len 746.42, median 690.0, min 577, max 1733\n"
     ]
    }
   ],
   "source": [
    "for group_id in range(0, num_split):\n",
    "    start_pos = group_id * block_size\n",
    "    end_pos = min((group_id+1) * block_size, len(profile_length))\n",
    "    \n",
    "    users_in_group = sorted_users[start_pos:end_pos]\n",
    "    \n",
    "    users_in_group_p_len = profile_length[users_in_group]\n",
    "    \n",
    "    print(\"Group {}, #users in group {}, average p.len {:.2f}, median {}, min {}, max {}\".format(\n",
    "        group_id, \n",
    "        users_in_group.shape[0],\n",
    "        users_in_group_p_len.mean(),\n",
    "        np.median(users_in_group_p_len),\n",
    "        users_in_group_p_len.min(),\n",
    "        users_in_group_p_len.max()))"
   ]
  },
  {
   "cell_type": "code",
   "execution_count": 9,
   "metadata": {},
   "outputs": [],
   "source": [
    "from Utils.import_recommenders import *\n",
    "\n",
    "MAP_recommender_per_group = {}\n",
    "\n",
    "recommenders = {\n",
    "    'ItemKNNCF': ItemKNNCF_test,\n",
    "    'UserKNNCF': UserKNNCF_test,\n",
    "    'EASE_R': EASE_R_test,\n",
    "    'SLIMElasticNet': SLIMElasticNet_test,\n",
    "    'ItemKNN_CFCBF_Hybrid': ItemKNN_CFCBF_Hybrid_test,\n",
    "    'Hybrid': Hybrid_test,\n",
    "    }\n",
    "\n",
    "recommender_object_dict = {}\n",
    "\n",
    "for label, recommender_object in recommenders.items():\n",
    "    recommender_object_dict[label] = recommender_object"
   ]
  },
  {
   "cell_type": "code",
   "execution_count": 10,
   "metadata": {},
   "outputs": [
    {
     "name": "stdout",
     "output_type": "stream",
     "text": [
      "Group 0, #users in group 1365, average p.len 53.08, median 54.0, min 5, max 90\n",
      "EvaluatorHoldout: Ignoring 13644 ( 0.0%) Users that have less than 1 test interactions\n",
      "EvaluatorHoldout: Ignoring 12285 Users\n",
      "EvaluatorHoldout: Processed 1359 (100.0%) in 0.31 sec. Users per second: 4328\n",
      "EvaluatorHoldout: Processed 1359 (100.0%) in 0.48 sec. Users per second: 2831\n",
      "EvaluatorHoldout: Processed 1359 (100.0%) in 0.85 sec. Users per second: 1593\n",
      "EvaluatorHoldout: Processed 1359 (100.0%) in 0.61 sec. Users per second: 2232\n",
      "EvaluatorHoldout: Processed 1359 (100.0%) in 0.36 sec. Users per second: 3775\n",
      "EvaluatorHoldout: Processed 1359 (100.0%) in 2.01 sec. Users per second: 677\n",
      "Group 1, #users in group 1365, average p.len 118.51, median 119.0, min 91, max 144\n",
      "EvaluatorHoldout: Ignoring 13644 ( 0.0%) Users that have less than 1 test interactions\n",
      "EvaluatorHoldout: Ignoring 12285 Users\n",
      "EvaluatorHoldout: Processed 1365 (100.0%) in 0.31 sec. Users per second: 4406\n",
      "EvaluatorHoldout: Processed 1365 (100.0%) in 0.65 sec. Users per second: 2114\n",
      "EvaluatorHoldout: Processed 1365 (100.0%) in 1.18 sec. Users per second: 1154\n",
      "EvaluatorHoldout: Processed 1365 (100.0%) in 0.79 sec. Users per second: 1724\n",
      "EvaluatorHoldout: Processed 1365 (100.0%) in 0.40 sec. Users per second: 3422\n",
      "EvaluatorHoldout: Processed 1365 (100.0%) in 2.80 sec. Users per second: 487\n",
      "Group 2, #users in group 1365, average p.len 165.09, median 165.0, min 144, max 186\n",
      "EvaluatorHoldout: Ignoring 13644 ( 0.0%) Users that have less than 1 test interactions\n",
      "EvaluatorHoldout: Ignoring 12285 Users\n",
      "EvaluatorHoldout: Processed 1365 (100.0%) in 0.34 sec. Users per second: 3999\n",
      "EvaluatorHoldout: Processed 1365 (100.0%) in 0.88 sec. Users per second: 1546\n",
      "EvaluatorHoldout: Processed 1365 (100.0%) in 1.47 sec. Users per second: 928\n",
      "EvaluatorHoldout: Processed 1365 (100.0%) in 0.87 sec. Users per second: 1567\n",
      "EvaluatorHoldout: Processed 1365 (100.0%) in 0.48 sec. Users per second: 2857\n",
      "EvaluatorHoldout: Processed 1365 (100.0%) in 3.41 sec. Users per second: 400\n",
      "Group 3, #users in group 1365, average p.len 206.68, median 206.0, min 186, max 228\n",
      "EvaluatorHoldout: Ignoring 13644 ( 0.0%) Users that have less than 1 test interactions\n",
      "EvaluatorHoldout: Ignoring 12285 Users\n",
      "EvaluatorHoldout: Processed 1365 (100.0%) in 0.36 sec. Users per second: 3748\n",
      "EvaluatorHoldout: Processed 1365 (100.0%) in 1.03 sec. Users per second: 1331\n",
      "EvaluatorHoldout: Processed 1365 (100.0%) in 1.72 sec. Users per second: 795\n",
      "EvaluatorHoldout: Processed 1365 (100.0%) in 0.90 sec. Users per second: 1518\n",
      "EvaluatorHoldout: Processed 1365 (100.0%) in 0.47 sec. Users per second: 2892\n",
      "EvaluatorHoldout: Processed 1365 (100.0%) in 3.52 sec. Users per second: 388\n",
      "Group 4, #users in group 1365, average p.len 250.46, median 251.0, min 228, max 272\n",
      "EvaluatorHoldout: Ignoring 13644 ( 0.0%) Users that have less than 1 test interactions\n",
      "EvaluatorHoldout: Ignoring 12285 Users\n",
      "EvaluatorHoldout: Processed 1365 (100.0%) in 0.38 sec. Users per second: 3611\n",
      "EvaluatorHoldout: Processed 1365 (100.0%) in 1.18 sec. Users per second: 1157\n",
      "EvaluatorHoldout: Processed 1365 (100.0%) in 1.92 sec. Users per second: 711\n",
      "EvaluatorHoldout: Processed 1365 (100.0%) in 0.97 sec. Users per second: 1414\n",
      "EvaluatorHoldout: Processed 1365 (100.0%) in 0.48 sec. Users per second: 2851\n",
      "EvaluatorHoldout: Processed 1365 (100.0%) in 3.93 sec. Users per second: 347\n",
      "Group 5, #users in group 1365, average p.len 295.00, median 295.0, min 272, max 319\n",
      "EvaluatorHoldout: Ignoring 13644 ( 0.0%) Users that have less than 1 test interactions\n",
      "EvaluatorHoldout: Ignoring 12285 Users\n",
      "EvaluatorHoldout: Processed 1365 (100.0%) in 0.39 sec. Users per second: 3511\n",
      "EvaluatorHoldout: Processed 1365 (100.0%) in 1.43 sec. Users per second: 956\n",
      "EvaluatorHoldout: Processed 1365 (100.0%) in 2.23 sec. Users per second: 611\n",
      "EvaluatorHoldout: Processed 1365 (100.0%) in 1.04 sec. Users per second: 1316\n",
      "EvaluatorHoldout: Processed 1365 (100.0%) in 0.53 sec. Users per second: 2572\n",
      "EvaluatorHoldout: Processed 1365 (100.0%) in 4.90 sec. Users per second: 278\n",
      "Group 6, #users in group 1365, average p.len 344.91, median 344.0, min 319, max 373\n",
      "EvaluatorHoldout: Ignoring 13644 ( 0.0%) Users that have less than 1 test interactions\n",
      "EvaluatorHoldout: Ignoring 12285 Users\n",
      "EvaluatorHoldout: Processed 1365 (100.0%) in 0.42 sec. Users per second: 3273\n",
      "EvaluatorHoldout: Processed 1365 (100.0%) in 1.57 sec. Users per second: 871\n",
      "EvaluatorHoldout: Processed 1365 (100.0%) in 2.61 sec. Users per second: 523\n",
      "EvaluatorHoldout: Processed 1365 (100.0%) in 1.19 sec. Users per second: 1143\n",
      "EvaluatorHoldout: Processed 1365 (100.0%) in 0.62 sec. Users per second: 2216\n",
      "EvaluatorHoldout: Processed 1365 (100.0%) in 5.40 sec. Users per second: 253\n",
      "Group 7, #users in group 1365, average p.len 410.14, median 409.0, min 373, max 452\n",
      "EvaluatorHoldout: Ignoring 13644 ( 0.0%) Users that have less than 1 test interactions\n",
      "EvaluatorHoldout: Ignoring 12285 Users\n",
      "EvaluatorHoldout: Processed 1365 (100.0%) in 0.47 sec. Users per second: 2892\n",
      "EvaluatorHoldout: Processed 1365 (100.0%) in 1.86 sec. Users per second: 733\n",
      "EvaluatorHoldout: Processed 1365 (100.0%) in 3.19 sec. Users per second: 428\n",
      "EvaluatorHoldout: Processed 1365 (100.0%) in 1.35 sec. Users per second: 1007\n",
      "EvaluatorHoldout: Processed 1365 (100.0%) in 0.63 sec. Users per second: 2166\n",
      "EvaluatorHoldout: Processed 1365 (100.0%) in 6.44 sec. Users per second: 212\n",
      "Group 8, #users in group 1365, average p.len 507.54, median 503.0, min 452, max 577\n",
      "EvaluatorHoldout: Ignoring 13644 ( 0.0%) Users that have less than 1 test interactions\n",
      "EvaluatorHoldout: Ignoring 12285 Users\n",
      "EvaluatorHoldout: Processed 1365 (100.0%) in 0.50 sec. Users per second: 2732\n",
      "EvaluatorHoldout: Processed 1365 (100.0%) in 2.29 sec. Users per second: 597\n",
      "EvaluatorHoldout: Processed 1365 (100.0%) in 3.97 sec. Users per second: 344\n",
      "EvaluatorHoldout: Processed 1365 (100.0%) in 1.42 sec. Users per second: 963\n",
      "EvaluatorHoldout: Processed 1365 (100.0%) in 0.76 sec. Users per second: 1796\n",
      "EvaluatorHoldout: Processed 1365 (100.0%) in 7.49 sec. Users per second: 182\n",
      "Group 9, #users in group 1365, average p.len 746.42, median 690.0, min 577, max 1733\n",
      "EvaluatorHoldout: Ignoring 13644 ( 0.0%) Users that have less than 1 test interactions\n",
      "EvaluatorHoldout: Ignoring 12285 Users\n",
      "EvaluatorHoldout: Processed 1365 (100.0%) in 0.62 sec. Users per second: 2204\n",
      "EvaluatorHoldout: Processed 1365 (100.0%) in 2.76 sec. Users per second: 495\n",
      "EvaluatorHoldout: Processed 1365 (100.0%) in 5.42 sec. Users per second: 252\n",
      "EvaluatorHoldout: Processed 1365 (100.0%) in 1.91 sec. Users per second: 714\n",
      "EvaluatorHoldout: Processed 1365 (100.0%) in 1.02 sec. Users per second: 1340\n",
      "EvaluatorHoldout: Processed 1365 (100.0%) in 11.21 sec. Users per second: 122\n"
     ]
    }
   ],
   "source": [
    "from Utils.Evaluator import EvaluatorHoldout\n",
    "\n",
    "for group_id in range(0, num_split):\n",
    "    start_pos = group_id*block_size\n",
    "    end_pos = min((group_id+1)*block_size, len(profile_length))\n",
    "    users_in_group = sorted_users[start_pos:end_pos]\n",
    "    users_in_group_p_len = profile_length[users_in_group]\n",
    "    \n",
    "    print('Group {}, #users in group {}, average p.len {:.2f}, median {}, min {}, max {}'.format(\n",
    "        group_id, \n",
    "        users_in_group.shape[0],\n",
    "        users_in_group_p_len.mean(),\n",
    "        np.median(users_in_group_p_len),\n",
    "        users_in_group_p_len.min(),\n",
    "        users_in_group_p_len.max()))\n",
    "    \n",
    "    users_not_in_group_flag = np.isin(sorted_users, users_in_group, invert=True)\n",
    "    users_not_in_group = sorted_users[users_not_in_group_flag]\n",
    "    \n",
    "    evaluator_test = EvaluatorHoldout(dataset.URM_test, cutoff_list=[10], ignore_users=users_not_in_group)\n",
    "    \n",
    "    for label, recommender in recommender_object_dict.items():\n",
    "        result_df, _ = evaluator_test.evaluateRecommender(recommender)\n",
    "        if label in MAP_recommender_per_group:\n",
    "            MAP_recommender_per_group[label].append(result_df.loc[10]['MAP'])\n",
    "        else:\n",
    "            MAP_recommender_per_group[label] = [result_df.loc[10]['MAP']]\n",
    "        "
   ]
  },
  {
   "cell_type": "code",
   "execution_count": 11,
   "metadata": {},
   "outputs": [
    {
     "name": "stdout",
     "output_type": "stream",
     "text": [
      "EvaluatorHoldout: Processed 1365 (100.0%) in 0.64 sec. Users per second: 2141\n",
      "EvaluatorHoldout: Processed 1365 (100.0%) in 2.91 sec. Users per second: 470\n",
      "EvaluatorHoldout: Processed 1365 (100.0%) in 6.92 sec. Users per second: 197\n",
      "EvaluatorHoldout: Processed 1365 (100.0%) in 2.05 sec. Users per second: 665\n",
      "EvaluatorHoldout: Processed 1365 (100.0%) in 0.95 sec. Users per second: 1440\n",
      "EvaluatorHoldout: Processed 1365 (100.0%) in 13.09 sec. Users per second: 104\n"
     ]
    }
   ],
   "source": [
    "for label, recommender in recommender_object_dict.items():\n",
    "  result_df, _ = evaluator_test.evaluateRecommender(recommender)\n",
    "  if label in MAP_recommender_per_group:\n",
    "      MAP_recommender_per_group[label].append(result_df.loc[10]['MAP'])\n",
    "  else:\n",
    "      MAP_recommender_per_group[label] = [result_df.loc[10]['MAP']]"
   ]
  },
  {
   "cell_type": "code",
   "execution_count": 12,
   "metadata": {},
   "outputs": [
    {
     "data": {
      "image/png": "[encoded data removed]",
      "text/plain": [
       "<Figure size 1600x900 with 1 Axes>"
      ]
     },
     "metadata": {},
     "output_type": "display_data"
    }
   ],
   "source": [
    "import matplotlib.pyplot as plt\n",
    "%matplotlib inline  \n",
    "\n",
    "_ = plt.figure(figsize=(16, 9))\n",
    "for label, recommender in recommender_object_dict.items():\n",
    "    results = MAP_recommender_per_group[label]\n",
    "    plt.scatter(x=np.arange(0,len(results)), y=results, label=label)\n",
    "\n",
    "plt.ylabel('MAP')\n",
    "plt.xlabel('User Group')\n",
    "plt.legend()\n",
    "plt.show()"
   ]
  },
  {
   "cell_type": "code",
   "execution_count": 13,
   "metadata": {},
   "outputs": [
    {
     "name": "stdout",
     "output_type": "stream",
     "text": [
      "Recommender: ItemKNNCF\n",
      "\tGroup 0: 0.10096969643879122\n",
      "\tGroup 1: 0.19364750857607957\n",
      "\tGroup 2: 0.22262047212047184\n",
      "\tGroup 3: 0.24916439909297053\n",
      "\tGroup 4: 0.2530525611954183\n",
      "\tGroup 5: 0.26989787196930015\n",
      "\tGroup 6: 0.28342016977731244\n",
      "\tGroup 7: 0.2777620501191929\n",
      "\tGroup 8: 0.2813352229780801\n",
      "\tGroup 9: 0.29557738822024554\n",
      "\tGroup 10: 0.29557738822024554\n",
      "Recommender: UserKNNCF\n",
      "\tGroup 0: 0.10240404942943565\n",
      "\tGroup 1: 0.1918856038141751\n",
      "\tGroup 2: 0.21608616780045306\n",
      "\tGroup 3: 0.245431449502878\n",
      "\tGroup 4: 0.25084571777428905\n",
      "\tGroup 5: 0.25674007209721456\n",
      "\tGroup 6: 0.27087845223559515\n",
      "\tGroup 7: 0.26321594278737115\n",
      "\tGroup 8: 0.2667599569742425\n",
      "\tGroup 9: 0.28558235943950266\n",
      "\tGroup 10: 0.28558235943950266\n",
      "Recommender: EASE_R\n",
      "\tGroup 0: 0.10203861382669321\n",
      "\tGroup 1: 0.1969688935403217\n",
      "\tGroup 2: 0.22129647072504205\n",
      "\tGroup 3: 0.25678865050293637\n",
      "\tGroup 4: 0.2643549334263617\n",
      "\tGroup 5: 0.26678975521832604\n",
      "\tGroup 6: 0.2841318972033255\n",
      "\tGroup 7: 0.2758976103261809\n",
      "\tGroup 8: 0.2860906157334734\n",
      "\tGroup 9: 0.2984814814814812\n",
      "\tGroup 10: 0.2984814814814812\n",
      "Recommender: SLIMElasticNet\n",
      "\tGroup 0: 0.10556069472184255\n",
      "\tGroup 1: 0.20352410023838538\n",
      "\tGroup 2: 0.22759526716669534\n",
      "\tGroup 3: 0.25961695447409683\n",
      "\tGroup 4: 0.2660217163788593\n",
      "\tGroup 5: 0.2693155997441704\n",
      "\tGroup 6: 0.287519710448282\n",
      "\tGroup 7: 0.2728261236118374\n",
      "\tGroup 8: 0.28102439095296267\n",
      "\tGroup 9: 0.2963554276411419\n",
      "\tGroup 10: 0.2963554276411419\n",
      "Recommender: ItemKNN_CFCBF_Hybrid\n",
      "\tGroup 0: 0.09597553640048112\n",
      "\tGroup 1: 0.1868259491830918\n",
      "\tGroup 2: 0.21755102040816277\n",
      "\tGroup 3: 0.24335051456479972\n",
      "\tGroup 4: 0.24759785452642574\n",
      "\tGroup 5: 0.2596280306994588\n",
      "\tGroup 6: 0.2756842548985403\n",
      "\tGroup 7: 0.26971335542764074\n",
      "\tGroup 8: 0.27500697714983424\n",
      "\tGroup 9: 0.29115966044537495\n",
      "\tGroup 10: 0.29115966044537495\n",
      "Recommender: Hybrid\n",
      "\tGroup 0: 0.11445603676839873\n",
      "\tGroup 1: 0.21097880690737789\n",
      "\tGroup 2: 0.23237537066108466\n",
      "\tGroup 3: 0.2630959358102213\n",
      "\tGroup 4: 0.26881830338973256\n",
      "\tGroup 5: 0.2743435664864235\n",
      "\tGroup 6: 0.2916526832955403\n",
      "\tGroup 7: 0.28148854584568844\n",
      "\tGroup 8: 0.28807206814349595\n",
      "\tGroup 9: 0.3024791266934116\n",
      "\tGroup 10: 0.3024791266934116\n"
     ]
    }
   ],
   "source": [
    "for label, recommender in recommender_object_dict.items():\n",
    "    print(f'Recommender: {label}')\n",
    "    results = MAP_recommender_per_group[label]\n",
    "    \n",
    "    for idx, res in enumerate(results): \n",
    "        print(f'\\tGroup {idx}: {res}')"
   ]
  }
 ],
 "metadata": {
  "interpreter": {
   "hash": "782edcdd45310a060295c19eccd10f05df2225c8c12880f1f67839d485ba21e2"
  },
  "kernelspec": {
   "display_name": "Python 3.9.4 64-bit",
   "language": "python",
   "name": "python3"
  },
  "language_info": {
   "codemirror_mode": {
    "name": "ipython",
    "version": 3
   },
   "file_extension": ".py",
   "mimetype": "text/x-python",
   "name": "python",
   "nbconvert_exporter": "python",
   "pygments_lexer": "ipython3",
   "version": "3.9.4"
  },
  "orig_nbformat": 4
 },
 "nbformat": 4,
 "nbformat_minor": 2
}
