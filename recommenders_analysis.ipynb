{
 "cells": [
  {
   "cell_type": "markdown",
   "metadata": {},
   "source": [
    "## Analysis of recommenders"
   ]
  },
  {
   "cell_type": "code",
   "execution_count": 1,
   "metadata": {},
   "outputs": [
    {
     "name": "stderr",
     "output_type": "stream",
     "text": [
      "C:\\Users\\Martim\\AppData\\Local\\Programs\\Python\\Python39\\lib\\site-packages\\lightfm\\_lightfm_fast.py:9: UserWarning: LightFM was compiled without OpenMP support. Only a single thread will be used.\n",
      "  warnings.warn(\n"
     ]
    }
   ],
   "source": [
    "# Base\n",
    "from Recommenders.Base.TopPop import TopPop\n",
    "\n",
    "# CF\n",
    "from Recommenders.CF.KNN.ItemKNNCF import ItemKNNCF\n",
    "from Recommenders.CF.KNN.UserKNNCF import UserKNNCF\n",
    "from Recommenders.CF.KNN.RP3beta import RP3beta\n",
    "from Recommenders.CF.KNN.P3alpha import P3alpha\n",
    "from Recommenders.CF.KNN.EASE_R import EASE_R\n",
    "from Recommenders.CF.MatrixFactorization.PureSVD import PureSVD, PureSVDItem, ScaledPureSVD\n",
    "from Recommenders.CF.KNN.SLIMElasticNet import SLIMElasticNet, MultiThreadSLIM_SLIMElasticNet\n",
    "from Recommenders.CF.KNN.SLIM_BPR import SLIM_BPR\n",
    "from Recommenders.CF.MatrixFactorization.IALS import IALS\n",
    "from Recommenders.CF.MatrixFactorization.NMF import NMF\n",
    "from Recommenders.CF.LightFM import LightFM\n",
    "from Recommenders.CF.MultVAE import MultVAE\n",
    "from Recommenders.CF.MatrixFactorization.Cython.MatrixFactorization_Cython import MatrixFactorization_BPR_Cython,\\\n",
    "    MatrixFactorization_FunkSVD_Cython, MatrixFactorization_AsySVD_Cython\n",
    "\n",
    "# CB\n",
    "from Recommenders.CB.KNN.ItemKNNCBF import ItemKNNCBF\n",
    "\n",
    "# Hybrid \n",
    "from Recommenders.Hybrid.ItemKNN_CFCBF_Hybrid import ItemKNN_CFCBF_Hybrid\n",
    "from Recommenders.Hybrid.Hybrid1 import Hybrid1\n",
    "from Recommenders.Hybrid.Hybrid2 import Hybrid2\n",
    "from Recommenders.Hybrid.Hybrid3 import Hybrid3"
   ]
  },
  {
   "cell_type": "code",
   "execution_count": 2,
   "metadata": {},
   "outputs": [],
   "source": [
    "import os\n",
    "from Utils.Dataset import Dataset\n",
    "\n",
    "dataset = Dataset(path='./Data', validation_percentage=0, test_percentage=0.2, seed=1234)\n",
    "stacked_URM, _ = dataset.stack_URM_ICM(dataset.URM_train, dataset.ICM)\n",
    "output_folder_path = os.path.join('Recommenders', 'saved_models', 'test'+os.sep)"
   ]
  },
  {
   "cell_type": "code",
   "execution_count": 3,
   "metadata": {},
   "outputs": [
    {
     "name": "stdout",
     "output_type": "stream",
     "text": [
      "EASE_R: Loading model from file Recommenders\\saved_models\\test\\EASE_R\n",
      "EASE_R: Loading complete\n",
      "ItemKNN_CFCBF_Hybrid: Loading model from file Recommenders\\saved_models\\test\\ItemKNN_CFCBF_Hybrid\n",
      "ItemKNN_CFCBF_Hybrid: Loading complete\n",
      "ItemKNNCF: Loading model from file Recommenders\\saved_models\\test\\ItemKNNCF\n",
      "ItemKNNCF: Loading complete\n",
      "PureSVD: Loading model from file Recommenders\\saved_models\\test\\PureSVD\n",
      "PureSVD: Loading complete\n",
      "PureSVDItem: Loading model from file Recommenders\\saved_models\\test\\PureSVDItem\n",
      "PureSVDItem: Loading complete\n",
      "RP3beta: Loading model from file Recommenders\\saved_models\\test\\RP3beta\n",
      "RP3beta: Loading complete\n",
      "SLIM_BPR: Loading model from file Recommenders\\saved_models\\test\\SLIM_BPR\n",
      "SLIM_BPR: Loading complete\n",
      "SLIMElasticNet: Loading model from file Recommenders\\saved_models\\test\\SLIMElasticNet\n",
      "SLIMElasticNet: Loading complete\n",
      "UserKNNCF: Loading model from file Recommenders\\saved_models\\test\\UserKNNCF\n",
      "UserKNNCF: Loading complete\n"
     ]
    }
   ],
   "source": [
    "EASE_R_test = EASE_R(stacked_URM)\n",
    "EASE_R_test.load_model(output_folder_path)\n",
    "\n",
    "ItemKNN_CFCBF_Hybrid_test = ItemKNN_CFCBF_Hybrid(stacked_URM, dataset.ICM)\n",
    "ItemKNN_CFCBF_Hybrid_test.load_model(output_folder_path)\n",
    "\n",
    "ItemKNNCF_test = ItemKNNCF(stacked_URM)\n",
    "ItemKNNCF_test.load_model(output_folder_path)\n",
    "\n",
    "PureSVD_test = PureSVD(stacked_URM)\n",
    "PureSVD_test.load_model(output_folder_path)\n",
    "\n",
    "PureSVDItem_test = PureSVDItem(stacked_URM)\n",
    "PureSVDItem_test.load_model(output_folder_path)\n",
    "\n",
    "RP3beta_test = RP3beta(stacked_URM)\n",
    "RP3beta_test.load_model(output_folder_path)\n",
    "\n",
    "SLIM_BPR_test = SLIM_BPR(stacked_URM)\n",
    "SLIM_BPR_test.load_model(output_folder_path)\n",
    "\n",
    "SLIMElasticNet_test = SLIMElasticNet(stacked_URM)\n",
    "SLIMElasticNet_test.load_model(output_folder_path)\n",
    "\n",
    "UserKNNCF_test = UserKNNCF(stacked_URM)\n",
    "UserKNNCF_test.load_model(output_folder_path)"
   ]
  },
  {
   "cell_type": "code",
   "execution_count": 4,
   "metadata": {},
   "outputs": [
    {
     "data": {
      "text/plain": [
       "(array([141, 499, 111, ..., 214, 150, 257], dtype=int32), (13650,))"
      ]
     },
     "execution_count": 4,
     "metadata": {},
     "output_type": "execute_result"
    }
   ],
   "source": [
    "import numpy as np \n",
    "import scipy.sparse as sps\n",
    "\n",
    "profile_length = np.ediff1d(sps.csr_matrix(dataset.URM_train).indptr)\n",
    "profile_length, profile_length.shape"
   ]
  },
  {
   "cell_type": "code",
   "execution_count": 5,
   "metadata": {},
   "outputs": [],
   "source": [
    "num_split = 6"
   ]
  },
  {
   "cell_type": "code",
   "execution_count": 6,
   "metadata": {},
   "outputs": [
    {
     "data": {
      "text/plain": [
       "2275"
      ]
     },
     "execution_count": 6,
     "metadata": {},
     "output_type": "execute_result"
    }
   ],
   "source": [
    "block_size = int(len(profile_length)*(1/num_split))\n",
    "block_size"
   ]
  },
  {
   "cell_type": "code",
   "execution_count": 7,
   "metadata": {},
   "outputs": [
    {
     "data": {
      "text/plain": [
       "array([ 1648, 10647, 11672, ...,  1141,  8526,   317], dtype=int64)"
      ]
     },
     "execution_count": 7,
     "metadata": {},
     "output_type": "execute_result"
    }
   ],
   "source": [
    "sorted_users = np.argsort(profile_length)\n",
    "sorted_users"
   ]
  },
  {
   "cell_type": "code",
   "execution_count": 8,
   "metadata": {},
   "outputs": [
    {
     "name": "stdout",
     "output_type": "stream",
     "text": [
      "Group 0, #users in group 2275, average p.len 75.74, median 80.0, min 5, max 127\n",
      "Group 1, #users in group 2275, average p.len 164.75, median 165.0, min 128, max 199\n",
      "Group 2, #users in group 2275, average p.len 235.81, median 236.0, min 199, max 272\n",
      "Group 3, #users in group 2275, average p.len 311.34, median 311.0, min 272, max 354\n",
      "Group 4, #users in group 2275, average p.len 412.18, median 409.0, min 354, max 485\n",
      "Group 5, #users in group 2275, average p.len 658.88, median 606.0, min 485, max 1733\n"
     ]
    }
   ],
   "source": [
    "for group_id in range(0, num_split):\n",
    "    start_pos = group_id * block_size\n",
    "    end_pos = min((group_id+1) * block_size, len(profile_length))\n",
    "    \n",
    "    users_in_group = sorted_users[start_pos:end_pos]\n",
    "    \n",
    "    users_in_group_p_len = profile_length[users_in_group]\n",
    "    \n",
    "    print(\"Group {}, #users in group {}, average p.len {:.2f}, median {}, min {}, max {}\".format(\n",
    "        group_id, \n",
    "        users_in_group.shape[0],\n",
    "        users_in_group_p_len.mean(),\n",
    "        np.median(users_in_group_p_len),\n",
    "        users_in_group_p_len.min(),\n",
    "        users_in_group_p_len.max()))"
   ]
  },
  {
   "cell_type": "code",
   "execution_count": 9,
   "metadata": {},
   "outputs": [],
   "source": [
    "from Utils.import_recommenders import *\n",
    "\n",
    "MAP_recommender_per_group = {}\n",
    "\n",
    "recommenders = {\n",
    "    'ItemKNNCF': ItemKNNCF_test,\n",
    "    'UserKNNCF': UserKNNCF_test,\n",
    "    'RP3beta': RP3beta_test,\n",
    "    'EASE_R': EASE_R_test,\n",
    "    'SLIMElasticNet': SLIMElasticNet_test,\n",
    "    'ItemKNN_CFCBF_Hybrid': ItemKNN_CFCBF_Hybrid_test,\n",
    "    }\n",
    "\n",
    "recommender_object_dict = {}\n",
    "\n",
    "for label, recommender_object in recommenders.items():\n",
    "    recommender_object_dict[label] = recommender_object"
   ]
  },
  {
   "cell_type": "code",
   "execution_count": null,
   "metadata": {},
   "outputs": [],
   "source": [
    "from Utils.Evaluator import EvaluatorHoldout\n",
    "\n",
    "for group_id in range(0, len(recommenders)):\n",
    "    start_pos = group_id*block_size\n",
    "    end_pos = min((group_id+1)*block_size, len(profile_length))\n",
    "    users_in_group = sorted_users[start_pos:end_pos]\n",
    "    users_in_group_p_len = profile_length[users_in_group]\n",
    "    \n",
    "    print('Group {}, #users in group {}, average p.len {:.2f}, median {}, min {}, max {}'.format(\n",
    "        group_id, \n",
    "        users_in_group.shape[0],\n",
    "        users_in_group_p_len.mean(),\n",
    "        np.median(users_in_group_p_len),\n",
    "        users_in_group_p_len.min(),\n",
    "        users_in_group_p_len.max()))\n",
    "    \n",
    "    users_not_in_group_flag = np.isin(sorted_users, users_in_group, invert=True)\n",
    "    users_not_in_group = sorted_users[users_not_in_group_flag]\n",
    "    \n",
    "    evaluator_test = EvaluatorHoldout(dataset.URM_test, cutoff_list=[10], ignore_users=users_not_in_group)\n",
    "    \n",
    "    for label, recommender in recommender_object_dict.items():\n",
    "        result_df, _ = evaluator_test.evaluateRecommender(recommender)\n",
    "        if label in MAP_recommender_per_group:\n",
    "            MAP_recommender_per_group[label].append(result_df.loc[10]['MAP'])\n",
    "        else:\n",
    "            MAP_recommender_per_group[label] = [result_df.loc[10]['MAP']]\n",
    "        "
   ]
  },
  {
   "cell_type": "code",
   "execution_count": 11,
   "metadata": {},
   "outputs": [
    {
     "name": "stdout",
     "output_type": "stream",
     "text": [
      "EvaluatorHoldout: Processed 2275 (100.0%) in 1.01 sec. Users per second: 2253\n",
      "EvaluatorHoldout: Processed 2275 (100.0%) in 4.39 sec. Users per second: 519\n",
      "EvaluatorHoldout: Processed 2275 (100.0%) in 1.35 sec. Users per second: 1689\n",
      "EvaluatorHoldout: Processed 2275 (100.0%) in 8.23 sec. Users per second: 276\n",
      "EvaluatorHoldout: Processed 2275 (100.0%) in 0.72 sec. Users per second: 3142\n",
      "EvaluatorHoldout: Processed 2275 (100.0%) in 7.66 sec. Users per second: 297\n",
      "EvaluatorHoldout: Processed 2275 (100.0%) in 2.26 sec. Users per second: 1005\n",
      "EvaluatorHoldout: Processed 2275 (100.0%) in 3.25 sec. Users per second: 700\n",
      "EvaluatorHoldout: Processed 2275 (100.0%) in 1.38 sec. Users per second: 1645\n"
     ]
    }
   ],
   "source": [
    "for label, recommender in recommender_object_dict.items():\n",
    "  result_df, _ = evaluator_test.evaluateRecommender(recommender)\n",
    "  if label in MAP_recommender_per_group:\n",
    "      MAP_recommender_per_group[label].append(result_df.loc[10]['MAP'])\n",
    "  else:\n",
    "      MAP_recommender_per_group[label] = [result_df.loc[10]['MAP']]"
   ]
  },
  {
   "cell_type": "code",
   "execution_count": 12,
   "metadata": {},
   "outputs": [
    {
     "data": {
      "image/png": "[encoded data removed]",
      "text/plain": [
       "<Figure size 1600x900 with 1 Axes>"
      ]
     },
     "metadata": {},
     "output_type": "display_data"
    }
   ],
   "source": [
    "import matplotlib.pyplot as plt\n",
    "%matplotlib inline  \n",
    "\n",
    "_ = plt.figure(figsize=(16, 9))\n",
    "for label, recommender in recommender_object_dict.items():\n",
    "    results = MAP_recommender_per_group[label]\n",
    "    plt.scatter(x=np.arange(0,len(results)), y=results, label=label)\n",
    "\n",
    "plt.ylabel('MAP')\n",
    "plt.xlabel('User Group')\n",
    "plt.legend()\n",
    "plt.show()"
   ]
  },
  {
   "cell_type": "code",
   "execution_count": null,
   "metadata": {},
   "outputs": [],
   "source": [
    "for label, recommender in recommender_object_dict.items():\n",
    "    print(f'Recommender: {label}')\n",
    "    results = MAP_recommender_per_group[label]\n",
    "    \n",
    "    for idx, res in enumerate(results): \n",
    "        print(f'\\tGroup {idx}: {res}')"
   ]
  },
  {
   "cell_type": "code",
   "execution_count": null,
   "metadata": {},
   "outputs": [],
   "source": []
  }
 ],
 "metadata": {
  "interpreter": {
   "hash": "782edcdd45310a060295c19eccd10f05df2225c8c12880f1f67839d485ba21e2"
  },
  "kernelspec": {
   "display_name": "Python 3.9.4 64-bit",
   "language": "python",
   "name": "python3"
  },
  "language_info": {
   "codemirror_mode": {
    "name": "ipython",
    "version": 3
   },
   "file_extension": ".py",
   "mimetype": "text/x-python",
   "name": "python",
   "nbconvert_exporter": "python",
   "pygments_lexer": "ipython3",
   "version": "3.9.4"
  },
  "orig_nbformat": 4
 },
 "nbformat": 4,
 "nbformat_minor": 2
}
