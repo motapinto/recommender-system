{
 "cells": [
  {
   "cell_type": "markdown",
   "metadata": {},
   "source": [
    "## Analysis of recommenders"
   ]
  },
  {
   "cell_type": "code",
   "execution_count": 1,
   "metadata": {},
   "outputs": [
    {
     "name": "stderr",
     "output_type": "stream",
     "text": [
      "C:\\Users\\Martim\\AppData\\Local\\Programs\\Python\\Python39\\lib\\site-packages\\setuptools\\distutils_patch.py:25: UserWarning: Distutils was imported before Setuptools. This usage is discouraged and may exhibit undesirable behaviors or errors. Please use Setuptools' objects directly or at least import Setuptools first.\n",
      "  warnings.warn(\n"
     ]
    }
   ],
   "source": [
    "from Utils.Dataset import Dataset\n",
    "\n",
    "dataset = Dataset(path='./Data', validation_percentage=0, test_percentage=0.2)\n",
    "stacked_URM, _ = dataset.stack_URM_ICM(dataset.URM_train, ICM)"
   ]
  },
  {
   "cell_type": "code",
   "execution_count": 2,
   "metadata": {},
   "outputs": [
    {
     "data": {
      "text/plain": [
       "(array([140, 496, 113, ..., 200, 151, 253], dtype=int32), (13650,))"
      ]
     },
     "execution_count": 2,
     "metadata": {},
     "output_type": "execute_result"
    }
   ],
   "source": [
    "import numpy as np \n",
    "import scipy.sparse as sps\n",
    "\n",
    "profile_length = np.ediff1d(sps.csr_matrix(dataset.URM_train).indptr)\n",
    "profile_length, profile_length.shape"
   ]
  },
  {
   "cell_type": "code",
   "execution_count": 3,
   "metadata": {},
   "outputs": [
    {
     "data": {
      "text/plain": [
       "682"
      ]
     },
     "execution_count": 3,
     "metadata": {},
     "output_type": "execute_result"
    }
   ],
   "source": [
    "block_size = int(len(profile_length)*0.05)\n",
    "block_size"
   ]
  },
  {
   "cell_type": "code",
   "execution_count": 4,
   "metadata": {},
   "outputs": [
    {
     "data": {
      "text/plain": [
       "array([11326,  3075,   758, ...,  1141,  8526,   317], dtype=int64)"
      ]
     },
     "execution_count": 4,
     "metadata": {},
     "output_type": "execute_result"
    }
   ],
   "source": [
    "sorted_users = np.argsort(profile_length)\n",
    "sorted_users"
   ]
  },
  {
   "cell_type": "code",
   "execution_count": 5,
   "metadata": {},
   "outputs": [
    {
     "name": "stdout",
     "output_type": "stream",
     "text": [
      "Group 0, #users in group 682, average p.len 32.44, median 33.0, min 5, max 54\n",
      "Group 1, #users in group 682, average p.len 73.46, median 74.0, min 54, max 90\n",
      "Group 2, #users in group 682, average p.len 104.72, median 105.0, min 90, max 119\n",
      "Group 3, #users in group 682, average p.len 131.64, median 132.0, min 119, max 143\n",
      "Group 4, #users in group 682, average p.len 154.55, median 155.0, min 143, max 165\n",
      "Group 5, #users in group 682, average p.len 174.99, median 175.0, min 165, max 184\n",
      "Group 6, #users in group 682, average p.len 195.77, median 196.0, min 184, max 206\n",
      "Group 7, #users in group 682, average p.len 217.15, median 217.0, min 206, max 229\n",
      "Group 8, #users in group 682, average p.len 240.02, median 240.0, min 229, max 251\n",
      "Group 9, #users in group 682, average p.len 261.59, median 262.0, min 251, max 272\n",
      "Group 10, #users in group 682, average p.len 282.83, median 283.0, min 272, max 295\n",
      "Group 11, #users in group 682, average p.len 306.62, median 307.0, min 295, max 318\n",
      "Group 12, #users in group 682, average p.len 330.81, median 331.0, min 318, max 344\n",
      "Group 13, #users in group 682, average p.len 357.83, median 358.0, min 344, max 372\n",
      "Group 14, #users in group 682, average p.len 389.85, median 389.0, min 372, max 409\n",
      "Group 15, #users in group 682, average p.len 429.85, median 430.0, min 410, max 451\n",
      "Group 16, #users in group 682, average p.len 475.64, median 475.0, min 451, max 503\n",
      "Group 17, #users in group 682, average p.len 538.44, median 537.0, min 503, max 576\n",
      "Group 18, #users in group 682, average p.len 627.40, median 623.5, min 576, max 691\n",
      "Group 19, #users in group 682, average p.len 852.73, median 808.0, min 691, max 1364\n"
     ]
    }
   ],
   "source": [
    "for group_id in range(0, 20):\n",
    "    start_pos = group_id * block_size\n",
    "    end_pos = min((group_id+1) * block_size, len(profile_length))\n",
    "    \n",
    "    users_in_group = sorted_users[start_pos:end_pos]\n",
    "    \n",
    "    users_in_group_p_len = profile_length[users_in_group]\n",
    "    \n",
    "    print(\"Group {}, #users in group {}, average p.len {:.2f}, median {}, min {}, max {}\".format(\n",
    "        group_id, \n",
    "        users_in_group.shape[0],\n",
    "        users_in_group_p_len.mean(),\n",
    "        np.median(users_in_group_p_len),\n",
    "        users_in_group_p_len.min(),\n",
    "        users_in_group_p_len.max()))"
   ]
  },
  {
   "cell_type": "code",
   "execution_count": 6,
   "metadata": {},
   "outputs": [
    {
     "name": "stderr",
     "output_type": "stream",
     "text": [
      "C:\\Users\\Martim\\AppData\\Local\\Programs\\Python\\Python39\\lib\\site-packages\\lightfm\\_lightfm_fast.py:9: UserWarning: LightFM was compiled without OpenMP support. Only a single thread will be used.\n",
      "  warnings.warn(\n"
     ]
    }
   ],
   "source": [
    "# Base\n",
    "from Recommenders.Base.TopPop import TopPop\n",
    "\n",
    "# CF\n",
    "from Recommenders.CF.KNN.ItemKNNCF import ItemKNNCF\n",
    "from Recommenders.CF.KNN.UserKNNCF import UserKNNCF\n",
    "from Recommenders.CF.KNN.RP3beta import RP3beta\n",
    "from Recommenders.CF.KNN.P3alpha import P3alpha\n",
    "from Recommenders.CF.KNN.EASE_R import EASE_R\n",
    "from Recommenders.CF.KNN.SLIM_BPR import SLIM_BPR\n",
    "from Recommenders.CF.KNN.SLIMElasticNet import SLIMElasticNet\n",
    "from Recommenders.CF.MatrixFactorization.PureSVD import PureSVD, ScaledPureSVD\n",
    "from Recommenders.CF.MatrixFactorization.PureSVDItem import PureSVDItem\n",
    "from Recommenders.CF.MatrixFactorization.IALS import IALS\n",
    "from Recommenders.CF.LightFM import LightFM\n",
    "from Recommenders.CF.MultVAE import MultVAE\n",
    "\n",
    "# CB\n",
    "from Recommenders.CB.KNN.ItemKNNCBF import ItemKNNCBF\n",
    "\n",
    "# Hybrid \n",
    "from Recommenders.Hybrid.ItemKNN_CFCBF_Hybrid import ItemKNN_CFCBF_Hybrid\n",
    "from Recommenders.Hybrid.Hybrid1 import Hybrid1\n",
    "from Recommenders.Hybrid.Hybrid2 import Hybrid2\n",
    "\n",
    "from Recommenders.CF.MatrixFactorization.Cython.MatrixFactorization_Cython import MatrixFactorization_BPR_Cython,\\\n",
    "    MatrixFactorization_FunkSVD_Cython, MatrixFactorization_AsySVD_Cython"
   ]
  },
  {
   "cell_type": "code",
   "execution_count": 9,
   "metadata": {},
   "outputs": [
    {
     "name": "stdout",
     "output_type": "stream",
     "text": [
      "Similarity column 18059 (100.0%), 1206.83 column/sec. Elapsed time 14.96 sec\n",
      "Similarity column 13876 (100.0%), 535.36 column/sec. Elapsed time 25.92 sec\n",
      "EASE_R: Fitting model... \n",
      "Similarity column 18059 (100.0%), 839.33 column/sec. Elapsed time 21.52 sec\n",
      "EASE_R: Fitting model... done in 2.96 min\n",
      "PureSVD: Computing SVD decomposition...\n",
      "PureSVD: Computing SVD decomposition... done in 1.27 sec\n",
      "PureSVDItem: Computing SVD decomposition...\n",
      "PureSVDItem: Computing SVD decomposition... Done!\n",
      "Similarity column 18059 (100.0%), 1375.58 column/sec. Elapsed time 13.13 sec\n"
     ]
    }
   ],
   "source": [
    "from Utils.import_recommenders import *\n",
    "\n",
    "MAP_recommender_per_group = {}\n",
    "\n",
    "collaborative_recommender_class = {\n",
    "    'TopPop': TopPop,\n",
    "    'ItemKNNCF': ItemKNNCF,\n",
    "    'UserKNNCF': UserKNNCF,\n",
    "    'RP3beta': RP3beta,\n",
    "    'P3alpha': P3alpha,\n",
    "    'EASE_R': EASE_R,\n",
    "    #'SLIM_BPR': SLIM_BPR,\n",
    "    'PureSVD': PureSVD,\n",
    "    'ScaledPureSVD': ScaledPureSVD,\n",
    "    'PureSVDItem': PureSVDItem,\n",
    "    }\n",
    "\n",
    "hybrid_recommender_class = {\n",
    "    'ItemKNN_CFCBF_Hybrid': ItemKNN_CFCBF_Hybrid,\n",
    "}\n",
    "\n",
    "recommender_object_dict = {}\n",
    "\n",
    "for label, recommender_class in collaborative_recommender_class.items():\n",
    "    recommender_object = recommender_class(stacked_URM)\n",
    "    recommender_object.fit()\n",
    "    recommender_object_dict[label] = recommender_object\n",
    "\n",
    "for label, recommender_class in hybrid_recommender_class.items():\n",
    "    recommender_object = recommender_class(stacked_URM, dataset.ICM)\n",
    "    recommender_object.fit()\n",
    "    recommender_object_dict[label] = recommender_object"
   ]
  },
  {
   "cell_type": "code",
   "execution_count": 11,
   "metadata": {},
   "outputs": [
    {
     "name": "stdout",
     "output_type": "stream",
     "text": [
      "Group 0, #users in group 682, average p.len 32.44, median 33.0, min 5, max 54Deallocating Cython objects\n",
      "\n",
      "EvaluatorHoldout: Ignoring 13644 ( 0.0%) Users that have less than 1 test interactions\n",
      "EvaluatorHoldout: Ignoring 12968 Users\n",
      "EvaluatorHoldout: Processed 676 (100.0%) in 1.76 sec. Users per second: 385\n",
      "EvaluatorHoldout: Processed 676 (100.0%) in 1.63 sec. Users per second: 415\n",
      "EvaluatorHoldout: Processed 676 (100.0%) in 1.71 sec. Users per second: 396\n",
      "EvaluatorHoldout: Processed 676 (100.0%) in 1.86 sec. Users per second: 364\n",
      "EvaluatorHoldout: Processed 676 (100.0%) in 2.14 sec. Users per second: 315\n",
      "EvaluatorHoldout: Processed 676 (100.0%) in 1.68 sec. Users per second: 403\n",
      "EvaluatorHoldout: Processed 676 (100.0%) in 1.83 sec. Users per second: 370\n",
      "EvaluatorHoldout: Processed 676 (100.0%) in 1.56 sec. Users per second: 432\n",
      "EvaluatorHoldout: Processed 676 (100.0%) in 1.97 sec. Users per second: 343\n",
      "EvaluatorHoldout: Processed 676 (100.0%) in 1.47 sec. Users per second: 461\n",
      "Group 1, #users in group 682, average p.len 73.46, median 74.0, min 54, max 90\n",
      "EvaluatorHoldout: Ignoring 13644 ( 0.0%) Users that have less than 1 test interactions\n",
      "EvaluatorHoldout: Ignoring 12968 Users\n",
      "EvaluatorHoldout: Processed 682 (100.0%) in 1.68 sec. Users per second: 405\n",
      "EvaluatorHoldout: Processed 682 (100.0%) in 1.56 sec. Users per second: 438\n",
      "EvaluatorHoldout: Processed 682 (100.0%) in 1.63 sec. Users per second: 419\n",
      "EvaluatorHoldout: Processed 682 (100.0%) in 1.80 sec. Users per second: 379\n",
      "EvaluatorHoldout: Processed 682 (100.0%) in 1.80 sec. Users per second: 379\n",
      "EvaluatorHoldout: Processed 682 (100.0%) in 1.49 sec. Users per second: 457\n",
      "EvaluatorHoldout: Processed 682 (100.0%) in 2.02 sec. Users per second: 338\n",
      "EvaluatorHoldout: Processed 682 (100.0%) in 1.65 sec. Users per second: 414\n",
      "EvaluatorHoldout: Processed 682 (100.0%) in 2.10 sec. Users per second: 325\n",
      "EvaluatorHoldout: Processed 682 (100.0%) in 1.73 sec. Users per second: 395\n",
      "Group 2, #users in group 682, average p.len 104.72, median 105.0, min 90, max 119\n",
      "EvaluatorHoldout: Ignoring 13644 ( 0.0%) Users that have less than 1 test interactions\n",
      "EvaluatorHoldout: Ignoring 12968 Users\n",
      "EvaluatorHoldout: Processed 682 (100.0%) in 1.95 sec. Users per second: 350\n",
      "EvaluatorHoldout: Processed 682 (100.0%) in 1.65 sec. Users per second: 412\n",
      "EvaluatorHoldout: Processed 682 (100.0%) in 1.74 sec. Users per second: 392\n",
      "EvaluatorHoldout: Processed 682 (100.0%) in 1.89 sec. Users per second: 360\n",
      "EvaluatorHoldout: Processed 682 (100.0%) in 1.86 sec. Users per second: 366\n",
      "EvaluatorHoldout: Processed 682 (100.0%) in 1.66 sec. Users per second: 412\n",
      "EvaluatorHoldout: Processed 682 (100.0%) in 2.10 sec. Users per second: 324\n",
      "EvaluatorHoldout: Processed 682 (100.0%) in 1.67 sec. Users per second: 408\n",
      "EvaluatorHoldout: Processed 682 (100.0%) in 2.27 sec. Users per second: 300\n",
      "EvaluatorHoldout: Processed 682 (100.0%) in 1.87 sec. Users per second: 365\n",
      "Group 3, #users in group 682, average p.len 131.64, median 132.0, min 119, max 143\n",
      "EvaluatorHoldout: Ignoring 13644 ( 0.0%) Users that have less than 1 test interactions\n",
      "EvaluatorHoldout: Ignoring 12968 Users\n",
      "EvaluatorHoldout: Processed 682 (100.0%) in 1.72 sec. Users per second: 397\n",
      "EvaluatorHoldout: Processed 682 (100.0%) in 1.62 sec. Users per second: 420\n",
      "EvaluatorHoldout: Processed 682 (100.0%) in 1.70 sec. Users per second: 400\n",
      "EvaluatorHoldout: Processed 682 (100.0%) in 1.84 sec. Users per second: 370\n",
      "EvaluatorHoldout: Processed 682 (100.0%) in 1.94 sec. Users per second: 352\n",
      "EvaluatorHoldout: Processed 682 (100.0%) in 1.65 sec. Users per second: 414\n",
      "EvaluatorHoldout: Processed 682 (100.0%) in 2.17 sec. Users per second: 315\n",
      "EvaluatorHoldout: Processed 682 (100.0%) in 1.66 sec. Users per second: 411\n",
      "EvaluatorHoldout: Processed 682 (100.0%) in 2.38 sec. Users per second: 286\n",
      "EvaluatorHoldout: Processed 682 (100.0%) in 1.82 sec. Users per second: 376\n",
      "Group 4, #users in group 682, average p.len 154.55, median 155.0, min 143, max 165\n",
      "EvaluatorHoldout: Ignoring 13644 ( 0.0%) Users that have less than 1 test interactions\n",
      "EvaluatorHoldout: Ignoring 12968 Users\n",
      "EvaluatorHoldout: Processed 682 (100.0%) in 1.71 sec. Users per second: 398\n",
      "EvaluatorHoldout: Processed 682 (100.0%) in 1.59 sec. Users per second: 430\n",
      "EvaluatorHoldout: Processed 682 (100.0%) in 1.59 sec. Users per second: 430\n",
      "EvaluatorHoldout: Processed 682 (100.0%) in 1.86 sec. Users per second: 368\n",
      "EvaluatorHoldout: Processed 682 (100.0%) in 1.92 sec. Users per second: 355\n",
      "EvaluatorHoldout: Processed 682 (100.0%) in 1.55 sec. Users per second: 440\n",
      "EvaluatorHoldout: Processed 682 (100.0%) in 2.24 sec. Users per second: 305\n",
      "EvaluatorHoldout: Processed 682 (100.0%) in 1.72 sec. Users per second: 397\n",
      "EvaluatorHoldout: Processed 682 (100.0%) in 2.33 sec. Users per second: 293\n",
      "EvaluatorHoldout: Processed 682 (100.0%) in 1.70 sec. Users per second: 400\n",
      "Group 5, #users in group 682, average p.len 174.99, median 175.0, min 165, max 184\n",
      "EvaluatorHoldout: Ignoring 13644 ( 0.0%) Users that have less than 1 test interactions\n",
      "EvaluatorHoldout: Ignoring 12968 Users\n",
      "EvaluatorHoldout: Processed 682 (100.0%) in 1.63 sec. Users per second: 417\n",
      "EvaluatorHoldout: Processed 682 (100.0%) in 1.57 sec. Users per second: 434\n"
     ]
    },
    {
     "name": "stderr",
     "output_type": "stream",
     "text": [
      "c:\\Users\\Martim\\Desktop\\recommender-system\\Utils\\metrics.py:425: RuntimeWarning: invalid value encountered in true_divide\n",
      "  gini_diversity = 2*np.sum((n_items + 1 - index)/(n_items+1) * recommended_counter_sorted/np.sum(recommended_counter_sorted))\n"
     ]
    },
    {
     "name": "stdout",
     "output_type": "stream",
     "text": [
      "EvaluatorHoldout: Processed 682 (100.0%) in 1.58 sec. Users per second: 432\n",
      "EvaluatorHoldout: Processed 682 (100.0%) in 1.95 sec. Users per second: 349\n",
      "EvaluatorHoldout: Processed 682 (100.0%) in 2.02 sec. Users per second: 337\n",
      "EvaluatorHoldout: Processed 682 (100.0%) in 1.70 sec. Users per second: 402\n",
      "EvaluatorHoldout: Processed 682 (100.0%) in 2.65 sec. Users per second: 258\n",
      "EvaluatorHoldout: Processed 682 (100.0%) in 1.77 sec. Users per second: 386\n",
      "EvaluatorHoldout: Processed 682 (100.0%) in 2.42 sec. Users per second: 282\n",
      "EvaluatorHoldout: Processed 682 (100.0%) in 1.60 sec. Users per second: 426\n",
      "Group 6, #users in group 682, average p.len 195.77, median 196.0, min 184, max 206\n",
      "EvaluatorHoldout: Ignoring 13644 ( 0.0%) Users that have less than 1 test interactions\n",
      "EvaluatorHoldout: Ignoring 12968 Users\n",
      "EvaluatorHoldout: Processed 682 (100.0%) in 1.60 sec. Users per second: 427\n",
      "EvaluatorHoldout: Processed 682 (100.0%) in 1.52 sec. Users per second: 450\n",
      "EvaluatorHoldout: Processed 682 (100.0%) in 1.65 sec. Users per second: 414\n",
      "EvaluatorHoldout: Processed 682 (100.0%) in 2.07 sec. Users per second: 329\n",
      "EvaluatorHoldout: Processed 682 (100.0%) in 2.14 sec. Users per second: 319\n",
      "EvaluatorHoldout: Processed 682 (100.0%) in 1.77 sec. Users per second: 384\n",
      "EvaluatorHoldout: Processed 682 (100.0%) in 2.50 sec. Users per second: 272\n",
      "EvaluatorHoldout: Processed 682 (100.0%) in 1.64 sec. Users per second: 416\n",
      "EvaluatorHoldout: Processed 682 (100.0%) in 2.48 sec. Users per second: 275\n",
      "EvaluatorHoldout: Processed 682 (100.0%) in 1.70 sec. Users per second: 401\n",
      "Group 7, #users in group 682, average p.len 217.15, median 217.0, min 206, max 229\n",
      "EvaluatorHoldout: Ignoring 13644 ( 0.0%) Users that have less than 1 test interactions\n",
      "EvaluatorHoldout: Ignoring 12968 Users\n",
      "EvaluatorHoldout: Processed 682 (100.0%) in 1.60 sec. Users per second: 427\n",
      "EvaluatorHoldout: Processed 682 (100.0%) in 1.55 sec. Users per second: 440\n",
      "EvaluatorHoldout: Processed 682 (100.0%) in 1.63 sec. Users per second: 419\n",
      "EvaluatorHoldout: Processed 682 (100.0%) in 1.99 sec. Users per second: 342\n",
      "EvaluatorHoldout: Processed 682 (100.0%) in 1.95 sec. Users per second: 351\n",
      "EvaluatorHoldout: Processed 682 (100.0%) in 1.54 sec. Users per second: 443\n",
      "EvaluatorHoldout: Processed 682 (100.0%) in 2.48 sec. Users per second: 275\n",
      "EvaluatorHoldout: Processed 682 (100.0%) in 1.68 sec. Users per second: 407\n",
      "EvaluatorHoldout: Processed 682 (100.0%) in 2.48 sec. Users per second: 276\n",
      "EvaluatorHoldout: Processed 682 (100.0%) in 1.63 sec. Users per second: 418\n",
      "Group 8, #users in group 682, average p.len 240.02, median 240.0, min 229, max 251\n",
      "EvaluatorHoldout: Ignoring 13644 ( 0.0%) Users that have less than 1 test interactions\n",
      "EvaluatorHoldout: Ignoring 12968 Users\n",
      "EvaluatorHoldout: Processed 682 (100.0%) in 1.65 sec. Users per second: 412\n",
      "EvaluatorHoldout: Processed 682 (100.0%) in 1.51 sec. Users per second: 451\n",
      "EvaluatorHoldout: Processed 682 (100.0%) in 1.68 sec. Users per second: 406\n",
      "EvaluatorHoldout: Processed 682 (100.0%) in 2.07 sec. Users per second: 329\n",
      "EvaluatorHoldout: Processed 682 (100.0%) in 2.23 sec. Users per second: 306\n",
      "EvaluatorHoldout: Processed 682 (100.0%) in 1.56 sec. Users per second: 437\n",
      "EvaluatorHoldout: Processed 682 (100.0%) in 2.55 sec. Users per second: 267\n",
      "EvaluatorHoldout: Processed 682 (100.0%) in 1.62 sec. Users per second: 421\n",
      "EvaluatorHoldout: Processed 682 (100.0%) in 2.59 sec. Users per second: 264\n",
      "EvaluatorHoldout: Processed 682 (100.0%) in 1.68 sec. Users per second: 405\n",
      "Group 9, #users in group 682, average p.len 261.59, median 262.0, min 251, max 272\n",
      "EvaluatorHoldout: Ignoring 13644 ( 0.0%) Users that have less than 1 test interactions\n",
      "EvaluatorHoldout: Ignoring 12968 Users\n",
      "EvaluatorHoldout: Processed 682 (100.0%) in 1.60 sec. Users per second: 426\n",
      "EvaluatorHoldout: Processed 682 (100.0%) in 1.60 sec. Users per second: 428\n",
      "EvaluatorHoldout: Processed 682 (100.0%) in 1.67 sec. Users per second: 408\n",
      "EvaluatorHoldout: Processed 682 (100.0%) in 2.09 sec. Users per second: 327\n",
      "EvaluatorHoldout: Processed 682 (100.0%) in 2.08 sec. Users per second: 327\n",
      "EvaluatorHoldout: Processed 682 (100.0%) in 1.60 sec. Users per second: 426\n",
      "EvaluatorHoldout: Processed 682 (100.0%) in 2.62 sec. Users per second: 260\n",
      "EvaluatorHoldout: Processed 682 (100.0%) in 1.64 sec. Users per second: 416\n",
      "EvaluatorHoldout: Processed 682 (100.0%) in 2.95 sec. Users per second: 231\n",
      "EvaluatorHoldout: Processed 682 (100.0%) in 1.75 sec. Users per second: 389\n",
      "Group 10, #users in group 682, average p.len 282.83, median 283.0, min 272, max 295\n",
      "EvaluatorHoldout: Ignoring 13644 ( 0.0%) Users that have less than 1 test interactions\n",
      "EvaluatorHoldout: Ignoring 12968 Users\n",
      "EvaluatorHoldout: Processed 682 (100.0%) in 1.65 sec. Users per second: 413\n",
      "EvaluatorHoldout: Processed 682 (100.0%) in 1.57 sec. Users per second: 434\n",
      "EvaluatorHoldout: Processed 682 (100.0%) in 1.63 sec. Users per second: 418\n",
      "EvaluatorHoldout: Processed 682 (100.0%) in 2.23 sec. Users per second: 306\n",
      "EvaluatorHoldout: Processed 682 (100.0%) in 2.08 sec. Users per second: 328\n",
      "EvaluatorHoldout: Processed 682 (100.0%) in 1.60 sec. Users per second: 426\n",
      "EvaluatorHoldout: Processed 682 (100.0%) in 2.86 sec. Users per second: 238\n",
      "EvaluatorHoldout: Processed 682 (100.0%) in 1.70 sec. Users per second: 402\n",
      "EvaluatorHoldout: Processed 682 (100.0%) in 2.70 sec. Users per second: 252\n",
      "EvaluatorHoldout: Processed 682 (100.0%) in 1.70 sec. Users per second: 401\n",
      "Group 11, #users in group 682, average p.len 306.62, median 307.0, min 295, max 318\n",
      "EvaluatorHoldout: Ignoring 13644 ( 0.0%) Users that have less than 1 test interactions\n",
      "EvaluatorHoldout: Ignoring 12968 Users\n",
      "EvaluatorHoldout: Processed 682 (100.0%) in 1.70 sec. Users per second: 402\n",
      "EvaluatorHoldout: Processed 682 (100.0%) in 1.53 sec. Users per second: 447\n",
      "EvaluatorHoldout: Processed 682 (100.0%) in 1.61 sec. Users per second: 423\n",
      "EvaluatorHoldout: Processed 682 (100.0%) in 2.25 sec. Users per second: 303\n",
      "EvaluatorHoldout: Processed 682 (100.0%) in 2.16 sec. Users per second: 316\n",
      "EvaluatorHoldout: Processed 682 (100.0%) in 1.65 sec. Users per second: 413\n",
      "EvaluatorHoldout: Processed 682 (100.0%) in 2.83 sec. Users per second: 241\n",
      "EvaluatorHoldout: Processed 682 (100.0%) in 1.61 sec. Users per second: 422\n",
      "EvaluatorHoldout: Processed 682 (100.0%) in 2.82 sec. Users per second: 242\n",
      "EvaluatorHoldout: Processed 682 (100.0%) in 1.69 sec. Users per second: 404\n",
      "Group 12, #users in group 682, average p.len 330.81, median 331.0, min 318, max 344\n",
      "EvaluatorHoldout: Ignoring 13644 ( 0.0%) Users that have less than 1 test interactions\n",
      "EvaluatorHoldout: Ignoring 12968 Users\n",
      "EvaluatorHoldout: Processed 682 (100.0%) in 1.68 sec. Users per second: 406\n",
      "EvaluatorHoldout: Processed 682 (100.0%) in 1.65 sec. Users per second: 412\n",
      "EvaluatorHoldout: Processed 682 (100.0%) in 1.80 sec. Users per second: 379\n",
      "EvaluatorHoldout: Processed 682 (100.0%) in 2.25 sec. Users per second: 303\n",
      "EvaluatorHoldout: Processed 682 (100.0%) in 2.19 sec. Users per second: 312\n",
      "EvaluatorHoldout: Processed 682 (100.0%) in 1.62 sec. Users per second: 422\n",
      "EvaluatorHoldout: Processed 682 (100.0%) in 2.91 sec. Users per second: 234\n",
      "EvaluatorHoldout: Processed 682 (100.0%) in 1.64 sec. Users per second: 415\n",
      "EvaluatorHoldout: Processed 682 (100.0%) in 2.90 sec. Users per second: 235\n",
      "EvaluatorHoldout: Processed 682 (100.0%) in 1.77 sec. Users per second: 386\n",
      "Group 13, #users in group 682, average p.len 357.83, median 358.0, min 344, max 372\n",
      "EvaluatorHoldout: Ignoring 13644 ( 0.0%) Users that have less than 1 test interactions\n",
      "EvaluatorHoldout: Ignoring 12968 Users\n",
      "EvaluatorHoldout: Processed 682 (100.0%) in 1.62 sec. Users per second: 420\n",
      "EvaluatorHoldout: Processed 682 (100.0%) in 1.53 sec. Users per second: 447\n",
      "EvaluatorHoldout: Processed 682 (100.0%) in 1.62 sec. Users per second: 420\n",
      "EvaluatorHoldout: Processed 682 (100.0%) in 2.39 sec. Users per second: 285\n",
      "EvaluatorHoldout: Processed 682 (100.0%) in 2.33 sec. Users per second: 293\n",
      "EvaluatorHoldout: Processed 682 (100.0%) in 1.71 sec. Users per second: 399\n",
      "EvaluatorHoldout: Processed 682 (100.0%) in 3.06 sec. Users per second: 223\n",
      "EvaluatorHoldout: Processed 682 (100.0%) in 1.64 sec. Users per second: 417\n",
      "EvaluatorHoldout: Processed 682 (100.0%) in 3.07 sec. Users per second: 222\n",
      "EvaluatorHoldout: Processed 682 (100.0%) in 1.80 sec. Users per second: 379\n",
      "Group 14, #users in group 682, average p.len 389.85, median 389.0, min 372, max 409\n",
      "EvaluatorHoldout: Ignoring 13644 ( 0.0%) Users that have less than 1 test interactions\n",
      "EvaluatorHoldout: Ignoring 12968 Users\n",
      "EvaluatorHoldout: Processed 682 (100.0%) in 1.72 sec. Users per second: 395\n",
      "EvaluatorHoldout: Processed 682 (100.0%) in 1.56 sec. Users per second: 436\n",
      "EvaluatorHoldout: Processed 682 (100.0%) in 1.79 sec. Users per second: 380\n",
      "EvaluatorHoldout: Processed 682 (100.0%) in 2.57 sec. Users per second: 265\n",
      "EvaluatorHoldout: Processed 682 (100.0%) in 2.28 sec. Users per second: 299\n",
      "EvaluatorHoldout: Processed 682 (100.0%) in 1.58 sec. Users per second: 431\n",
      "EvaluatorHoldout: Processed 682 (100.0%) in 3.18 sec. Users per second: 215\n",
      "EvaluatorHoldout: Processed 682 (100.0%) in 1.72 sec. Users per second: 397\n",
      "EvaluatorHoldout: Processed 682 (100.0%) in 3.04 sec. Users per second: 224\n",
      "EvaluatorHoldout: Processed 682 (100.0%) in 1.76 sec. Users per second: 387\n",
      "Group 15, #users in group 682, average p.len 429.85, median 430.0, min 410, max 451\n",
      "EvaluatorHoldout: Ignoring 13644 ( 0.0%) Users that have less than 1 test interactions\n",
      "EvaluatorHoldout: Ignoring 12968 Users\n",
      "EvaluatorHoldout: Processed 682 (100.0%) in 1.67 sec. Users per second: 407\n",
      "EvaluatorHoldout: Processed 682 (100.0%) in 1.64 sec. Users per second: 417\n",
      "EvaluatorHoldout: Processed 682 (100.0%) in 1.77 sec. Users per second: 386\n",
      "EvaluatorHoldout: Processed 682 (100.0%) in 2.46 sec. Users per second: 278\n",
      "EvaluatorHoldout: Processed 682 (100.0%) in 2.37 sec. Users per second: 287\n",
      "EvaluatorHoldout: Processed 682 (100.0%) in 1.63 sec. Users per second: 418\n",
      "EvaluatorHoldout: Processed 682 (100.0%) in 3.49 sec. Users per second: 196\n",
      "EvaluatorHoldout: Processed 682 (100.0%) in 1.63 sec. Users per second: 418\n",
      "EvaluatorHoldout: Processed 682 (100.0%) in 3.22 sec. Users per second: 212\n",
      "EvaluatorHoldout: Processed 682 (100.0%) in 1.79 sec. Users per second: 381\n",
      "Group 16, #users in group 682, average p.len 475.64, median 475.0, min 451, max 503\n",
      "EvaluatorHoldout: Ignoring 13644 ( 0.0%) Users that have less than 1 test interactions\n",
      "EvaluatorHoldout: Ignoring 12968 Users\n",
      "EvaluatorHoldout: Processed 682 (100.0%) in 1.64 sec. Users per second: 415\n",
      "EvaluatorHoldout: Processed 682 (100.0%) in 1.56 sec. Users per second: 437\n",
      "EvaluatorHoldout: Processed 682 (100.0%) in 1.72 sec. Users per second: 397\n",
      "EvaluatorHoldout: Processed 682 (100.0%) in 2.75 sec. Users per second: 248\n",
      "EvaluatorHoldout: Processed 682 (100.0%) in 2.51 sec. Users per second: 271\n",
      "EvaluatorHoldout: Processed 682 (100.0%) in 1.66 sec. Users per second: 410\n",
      "EvaluatorHoldout: Processed 682 (100.0%) in 3.74 sec. Users per second: 183\n",
      "EvaluatorHoldout: Processed 682 (100.0%) in 1.81 sec. Users per second: 377\n",
      "EvaluatorHoldout: Processed 682 (100.0%) in 3.71 sec. Users per second: 184\n",
      "EvaluatorHoldout: Processed 682 (100.0%) in 2.07 sec. Users per second: 330\n",
      "Group 17, #users in group 682, average p.len 538.44, median 537.0, min 503, max 576\n",
      "EvaluatorHoldout: Ignoring 13644 ( 0.0%) Users that have less than 1 test interactions\n",
      "EvaluatorHoldout: Ignoring 12968 Users\n",
      "EvaluatorHoldout: Processed 682 (100.0%) in 1.86 sec. Users per second: 367\n",
      "EvaluatorHoldout: Processed 682 (100.0%) in 1.60 sec. Users per second: 427\n",
      "EvaluatorHoldout: Processed 682 (100.0%) in 1.79 sec. Users per second: 382\n",
      "EvaluatorHoldout: Processed 682 (100.0%) in 2.99 sec. Users per second: 228\n",
      "EvaluatorHoldout: Processed 682 (100.0%) in 2.64 sec. Users per second: 259\n",
      "EvaluatorHoldout: Processed 682 (100.0%) in 1.69 sec. Users per second: 404\n",
      "EvaluatorHoldout: Processed 682 (100.0%) in 4.32 sec. Users per second: 158\n",
      "EvaluatorHoldout: Processed 682 (100.0%) in 1.81 sec. Users per second: 376\n",
      "EvaluatorHoldout: Processed 682 (100.0%) in 3.48 sec. Users per second: 196\n",
      "EvaluatorHoldout: Processed 682 (100.0%) in 1.89 sec. Users per second: 361\n",
      "Group 18, #users in group 682, average p.len 627.40, median 623.5, min 576, max 691\n",
      "EvaluatorHoldout: Ignoring 13644 ( 0.0%) Users that have less than 1 test interactions\n",
      "EvaluatorHoldout: Ignoring 12968 Users\n",
      "EvaluatorHoldout: Processed 682 (100.0%) in 1.73 sec. Users per second: 395\n",
      "EvaluatorHoldout: Processed 682 (100.0%) in 1.59 sec. Users per second: 429\n",
      "EvaluatorHoldout: Processed 682 (100.0%) in 1.80 sec. Users per second: 379\n",
      "EvaluatorHoldout: Processed 682 (100.0%) in 3.00 sec. Users per second: 227\n",
      "EvaluatorHoldout: Processed 682 (100.0%) in 2.57 sec. Users per second: 265\n",
      "EvaluatorHoldout: Processed 682 (100.0%) in 1.66 sec. Users per second: 410\n",
      "EvaluatorHoldout: Processed 682 (100.0%) in 4.05 sec. Users per second: 168\n",
      "EvaluatorHoldout: Processed 682 (100.0%) in 1.71 sec. Users per second: 399\n",
      "EvaluatorHoldout: Processed 682 (100.0%) in 3.54 sec. Users per second: 193\n",
      "EvaluatorHoldout: Processed 682 (100.0%) in 1.86 sec. Users per second: 367\n",
      "Group 19, #users in group 682, average p.len 852.73, median 808.0, min 691, max 1364\n",
      "EvaluatorHoldout: Ignoring 13644 ( 0.0%) Users that have less than 1 test interactions\n",
      "EvaluatorHoldout: Ignoring 12968 Users\n",
      "EvaluatorHoldout: Processed 682 (100.0%) in 1.73 sec. Users per second: 394\n",
      "EvaluatorHoldout: Processed 682 (100.0%) in 1.74 sec. Users per second: 393\n",
      "EvaluatorHoldout: Processed 682 (100.0%) in 1.88 sec. Users per second: 364\n",
      "EvaluatorHoldout: Processed 682 (100.0%) in 3.26 sec. Users per second: 209\n",
      "EvaluatorHoldout: Processed 682 (100.0%) in 2.83 sec. Users per second: 241\n",
      "EvaluatorHoldout: Processed 682 (100.0%) in 1.70 sec. Users per second: 401\n",
      "EvaluatorHoldout: Processed 682 (100.0%) in 5.69 sec. Users per second: 120\n",
      "EvaluatorHoldout: Processed 682 (100.0%) in 1.72 sec. Users per second: 398\n",
      "EvaluatorHoldout: Processed 682 (100.0%) in 4.03 sec. Users per second: 169\n",
      "EvaluatorHoldout: Processed 682 (100.0%) in 1.97 sec. Users per second: 347\n"
     ]
    }
   ],
   "source": [
    "from Utils.Evaluator import EvaluatorHoldout\n",
    "\n",
    "for group_id in range(0, 20):\n",
    "    start_pos = group_id*block_size\n",
    "    end_pos = min((group_id+1)*block_size, len(profile_length))\n",
    "    users_in_group = sorted_users[start_pos:end_pos]\n",
    "    users_in_group_p_len = profile_length[users_in_group]\n",
    "    \n",
    "    print('Group {}, #users in group {}, average p.len {:.2f}, median {}, min {}, max {}'.format(\n",
    "        group_id, \n",
    "        users_in_group.shape[0],\n",
    "        users_in_group_p_len.mean(),\n",
    "        np.median(users_in_group_p_len),\n",
    "        users_in_group_p_len.min(),\n",
    "        users_in_group_p_len.max()))\n",
    "    \n",
    "    users_not_in_group_flag = np.isin(sorted_users, users_in_group, invert=True)\n",
    "    users_not_in_group = sorted_users[users_not_in_group_flag]\n",
    "    \n",
    "    evaluator_test = EvaluatorHoldout(dataset.URM_test, cutoff_list=[10], ignore_users=users_not_in_group)\n",
    "    \n",
    "    for label, recommender in recommender_object_dict.items():\n",
    "        result_df, _ = evaluator_test.evaluateRecommender(recommender)\n",
    "        if label in MAP_recommender_per_group:\n",
    "            MAP_recommender_per_group[label].append(result_df.loc[10]['MAP'])\n",
    "        else:\n",
    "            MAP_recommender_per_group[label] = [result_df.loc[10]['MAP']]\n",
    "        "
   ]
  },
  {
   "cell_type": "code",
   "execution_count": 12,
   "metadata": {},
   "outputs": [
    {
     "data": {
      "image/png": "[encoded data removed]",
      "text/plain": [
       "<Figure size 1600x900 with 1 Axes>"
      ]
     },
     "metadata": {},
     "output_type": "display_data"
    }
   ],
   "source": [
    "import matplotlib.pyplot as plt\n",
    "%matplotlib inline  \n",
    "\n",
    "_ = plt.figure(figsize=(16, 9))\n",
    "for label, recommender in recommender_object_dict.items():\n",
    "    results = MAP_recommender_per_group[label]\n",
    "    plt.scatter(x=np.arange(0,len(results)), y=results, label=label)\n",
    "plt.ylabel('MAP')\n",
    "plt.xlabel('User Group')\n",
    "plt.legend()\n",
    "plt.show()"
   ]
  }
 ],
 "metadata": {
  "interpreter": {
   "hash": "782edcdd45310a060295c19eccd10f05df2225c8c12880f1f67839d485ba21e2"
  },
  "kernelspec": {
   "display_name": "Python 3.9.4 64-bit",
   "language": "python",
   "name": "python3"
  },
  "language_info": {
   "codemirror_mode": {
    "name": "ipython",
    "version": 3
   },
   "file_extension": ".py",
   "mimetype": "text/x-python",
   "name": "python",
   "nbconvert_exporter": "python",
   "pygments_lexer": "ipython3",
   "version": "3.9.4"
  },
  "orig_nbformat": 4
 },
 "nbformat": 4,
 "nbformat_minor": 2
}
