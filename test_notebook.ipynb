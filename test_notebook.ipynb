{
 "cells": [
  {
   "cell_type": "code",
   "execution_count": null,
   "metadata": {},
   "outputs": [],
   "source": [
    "from Recommenders.CF.MatrixFactorization.IALS import IALS\n",
    "from Utils.Dataset import Dataset\n",
    "from Utils.Evaluator import EvaluatorHoldout\n",
    "\n",
    "from Recommenders.CF.KNN.ItemKNNCF import ItemKNNCF\n",
    "from Recommenders.CF.KNN.UserKNNCF import UserKNNCF\n",
    "from Recommenders.CF.KNN.RP3beta import RP3beta\n",
    "from Recommenders.CF.KNN.P3alpha import P3alpha\n",
    "from Recommenders.CF.KNN.EASE_R import EASE_R\n",
    "from Recommenders.CF.KNN.MachineLearning.SLIM_BPR import SLIM_BPR\n",
    "from Recommenders.CF.KNN.MachineLearning.SLIMElasticNet import SLIMElasticNet\n",
    "from Recommenders.CF.MatrixFactorization.PureSVD import PureSVD, ScaledPureSVD\n",
    "from Recommenders.CF.MatrixFactorization.PureSVDItem import PureSVDItem\n",
    "\n",
    "\n",
    "from Recommenders.Hybrid.Hybrid import Hybrid"
   ]
  },
  {
   "cell_type": "code",
   "execution_count": null,
   "metadata": {},
   "outputs": [],
   "source": [
    "import numpy as np\n",
    "SEED = 9999\n",
    "np.random.seed(SEED)"
   ]
  },
  {
   "cell_type": "code",
   "execution_count": null,
   "metadata": {},
   "outputs": [],
   "source": [
    "dataset = Dataset(path='./Data', validation_percentage=0, test_percentage=0.2)"
   ]
  },
  {
   "cell_type": "code",
   "execution_count": null,
   "metadata": {},
   "outputs": [],
   "source": [
    "print(dataset.URM_train.shape)\n",
    "print(dataset.genre_ICM.shape)\n",
    "print(dataset.subgenre_ICM.shape)\n",
    "print(dataset.channel_ICM.shape)\n",
    "print(dataset.ICM.shape)"
   ]
  },
  {
   "cell_type": "code",
   "execution_count": null,
   "metadata": {},
   "outputs": [],
   "source": [
    "print(dataset.num_items)\n",
    "print(dataset.num_users)"
   ]
  },
  {
   "cell_type": "code",
   "execution_count": null,
   "metadata": {},
   "outputs": [],
   "source": [
    "evaluator_test = EvaluatorHoldout(dataset.URM_test, cutoff_list=[10])\n",
    "recommender = UserKNNCF(dataset.URM_train, dataset.ICM)\n",
    "recommender.fit()\n",
    "\n",
    "result_df, _ = evaluator_test.evaluateRecommender(recommender)\n",
    "print(result_df.loc[10])"
   ]
  },
  {
   "cell_type": "code",
   "execution_count": null,
   "metadata": {},
   "outputs": [],
   "source": [
    "evaluator_test = EvaluatorHoldout(dataset.URM_test_2, cutoff_list=[10])\n",
    "recommender = UserKNNCF(dataset.URM_train_2, dataset.ICM)\n",
    "recommender.fit()\n",
    "\n",
    "result_df, _ = evaluator_test.evaluateRecommender(recommender)\n",
    "print(result_df.loc[10])"
   ]
  }
 ],
 "metadata": {
  "interpreter": {
   "hash": "782edcdd45310a060295c19eccd10f05df2225c8c12880f1f67839d485ba21e2"
  },
  "kernelspec": {
   "display_name": "Python 3.9.4 64-bit",
   "language": "python",
   "name": "python3"
  },
  "language_info": {
   "codemirror_mode": {
    "name": "ipython",
    "version": 3
   },
   "file_extension": ".py",
   "mimetype": "text/x-python",
   "name": "python",
   "nbconvert_exporter": "python",
   "pygments_lexer": "ipython3",
   "version": "3.9.4"
  },
  "orig_nbformat": 4
 },
 "nbformat": 4,
 "nbformat_minor": 2
}
