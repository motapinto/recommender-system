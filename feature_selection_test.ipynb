{
 "cells": [
  {
   "cell_type": "code",
   "execution_count": 1,
   "metadata": {},
   "outputs": [
    {
     "name": "stderr",
     "output_type": "stream",
     "text": [
      "C:\\Users\\Martim\\AppData\\Local\\Programs\\Python\\Python39\\lib\\site-packages\\setuptools\\distutils_patch.py:25: UserWarning: Distutils was imported before Setuptools. This usage is discouraged and may exhibit undesirable behaviors or errors. Please use Setuptools' objects directly or at least import Setuptools first.\n",
      "  warnings.warn(\n"
     ]
    }
   ],
   "source": [
    "from Utils.Dataset import Dataset\n",
    "dataset = Dataset(path='./Data', validation_percentage=0, test_percentage=0.2, seed=None)"
   ]
  },
  {
   "cell_type": "code",
   "execution_count": 8,
   "metadata": {},
   "outputs": [],
   "source": [
    "from sklearn.feature_selection import VarianceThreshold\n",
    "\n",
    "p = 1.5e-4\n",
    "selector = VarianceThreshold(threshold=(p*(1-p)))"
   ]
  },
  {
   "cell_type": "code",
   "execution_count": 9,
   "metadata": {},
   "outputs": [
    {
     "name": "stdout",
     "output_type": "stream",
     "text": [
      "(18059, 226)\n",
      "(18059, 215)\n"
     ]
    }
   ],
   "source": [
    "output = selector.fit_transform(dataset.ICM)\n",
    "print(dataset.ICM.shape)\n",
    "print(output.shape)"
   ]
  },
  {
   "cell_type": "code",
   "execution_count": 10,
   "metadata": {},
   "outputs": [],
   "source": [
    "stacked_URM, stacked_ICM = dataset.stack_URM_ICM(dataset.URM_train, output)     "
   ]
  },
  {
   "cell_type": "code",
   "execution_count": 11,
   "metadata": {},
   "outputs": [
    {
     "name": "stdout",
     "output_type": "stream",
     "text": [
      "EvaluatorHoldout: Ignoring 13644 ( 0.0%) Users that have less than 1 test interactions\n",
      "Similarity column 18059 (100.0%), 1272.33 column/sec. Elapsed time 14.19 sec\n",
      "EvaluatorHoldout: Processed 13644 (100.0%) in 10.68 sec. Users per second: 1278\n",
      "\n",
      "Recommender performance: MAP = 0.24187580563350095. Time: 25 s.\n",
      "\n"
     ]
    }
   ],
   "source": [
    "from Utils.import_recommenders import * \n",
    "from tester import evaluate_recommender\n",
    "\n",
    "result_df, exec_time = evaluate_recommender(ItemKNNCF, \n",
    "  stacked_URM.copy(), dataset.ICM.copy(), dataset.URM_test)\n",
    "map = result_df.loc[10]['MAP']\n",
    "print(f'\\nRecommender performance: MAP = {map}. Time: {exec_time} s.\\n')\n"
   ]
  },
  {
   "cell_type": "code",
   "execution_count": 6,
   "metadata": {},
   "outputs": [],
   "source": [
    "stacked_URM, stacked_ICM = dataset.stack_URM_ICM(dataset.URM_train, dataset.ICM)    "
   ]
  },
  {
   "cell_type": "code",
   "execution_count": 7,
   "metadata": {},
   "outputs": [
    {
     "name": "stdout",
     "output_type": "stream",
     "text": [
      "EvaluatorHoldout: Ignoring 13644 ( 0.0%) Users that have less than 1 test interactions\n",
      "Similarity column 18059 (100.0%), 1260.66 column/sec. Elapsed time 14.33 sec\n",
      "EvaluatorHoldout: Processed 13644 (100.0%) in 10.38 sec. Users per second: 1314\n",
      "\n",
      "Recommender performance: MAP = 0.24187619827076692. Time: 25 s.\n",
      "\n"
     ]
    }
   ],
   "source": [
    "result_df, exec_time = evaluate_recommender(ItemKNNCF, \n",
    "  stacked_URM.copy(), dataset.ICM.copy(), dataset.URM_test)\n",
    "map = result_df.loc[10]['MAP']\n",
    "print(f'\\nRecommender performance: MAP = {map}. Time: {exec_time} s.\\n')"
   ]
  },
  {
   "cell_type": "code",
   "execution_count": null,
   "metadata": {},
   "outputs": [],
   "source": []
  }
 ],
 "metadata": {
  "interpreter": {
   "hash": "782edcdd45310a060295c19eccd10f05df2225c8c12880f1f67839d485ba21e2"
  },
  "kernelspec": {
   "display_name": "Python 3.9.4 64-bit",
   "language": "python",
   "name": "python3"
  },
  "language_info": {
   "codemirror_mode": {
    "name": "ipython",
    "version": 3
   },
   "file_extension": ".py",
   "mimetype": "text/x-python",
   "name": "python",
   "nbconvert_exporter": "python",
   "pygments_lexer": "ipython3",
   "version": "3.9.4"
  },
  "orig_nbformat": 4
 },
 "nbformat": 4,
 "nbformat_minor": 2
}
